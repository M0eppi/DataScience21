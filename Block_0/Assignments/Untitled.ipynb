{
 "cells": [
  {
   "cell_type": "code",
   "execution_count": 1,
   "metadata": {},
   "outputs": [
    {
     "name": "stdout",
     "output_type": "stream",
     "text": [
      "dict_keys(['example'])\n",
      "[42, 4, 2, 69, 7, 8, 9]\n",
      "{'example': [1, 2, 3, 4, 5], 'Robin': [26, 7, 5, 4], 'Tum': [42, 4, 2, 69, 7, 8, 9]}\n"
     ]
    }
   ],
   "source": [
    "class ListKeeper:\n",
    "    global d\n",
    "    d = {\"example\": [1,2,3,4,5]}\n",
    "\n",
    "    # Functions\n",
    "    # returns all list names (keys)\n",
    "    def show():\n",
    "        print(d.keys())\n",
    "    \n",
    "    # adding a new list into the dictionary\n",
    "    def add(name,list):\n",
    "        d_add = {name: list}\n",
    "        d.update(d_add)\n",
    "    \n",
    "    # delets the list 'name'\n",
    "    def delete(name):\n",
    "        d.pop(name)\n",
    "    \n",
    "    # sorting the list 'name'\n",
    "    def sort(name):\n",
    "        k = d[name]\n",
    "        k.sort()\n",
    "        print(name + ':', k)\n",
    "    \n",
    "    # adds the new list to an existing list 'name'\n",
    "    def append(name, list):\n",
    "        v = d[name] + list\n",
    "        print(v)\n",
    "        ListKeeper.add(name,v)\n",
    "    \n",
    "# TESTING\n",
    "ListKeeper.show()\n",
    "ListKeeper.add(\"Robin\",[26,7,5,4])\n",
    "ListKeeper.add(\"Tum\",[42,4,2,69])\n",
    "\n",
    "ListKeeper.append(\"Tum\", [7,8,9])\n",
    "print(d)"
   ]
  },
  {
   "cell_type": "code",
   "execution_count": null,
   "metadata": {},
   "outputs": [],
   "source": []
  }
 ],
 "metadata": {
  "kernelspec": {
   "display_name": "Python 3",
   "language": "python",
   "name": "python3"
  },
  "language_info": {
   "codemirror_mode": {
    "name": "ipython",
    "version": 3
   },
   "file_extension": ".py",
   "mimetype": "text/x-python",
   "name": "python",
   "nbconvert_exporter": "python",
   "pygments_lexer": "ipython3",
   "version": "3.8.5"
  }
 },
 "nbformat": 4,
 "nbformat_minor": 4
}
