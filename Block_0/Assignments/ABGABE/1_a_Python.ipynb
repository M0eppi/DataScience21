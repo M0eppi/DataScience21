{
 "cells": [
  {
   "cell_type": "markdown",
   "metadata": {},
   "source": [
    "# Exercise I: Your own Python module "
   ]
  },
  {
   "cell_type": "code",
   "execution_count": 1,
   "metadata": {},
   "outputs": [
    {
     "name": "stdout",
     "output_type": "stream",
     "text": [
      "running in Colab: False\n"
     ]
    }
   ],
   "source": [
    "#check if notebook runs in colab\n",
    "import sys\n",
    "IN_COLAB = 'google.colab' in sys.modules\n",
    "print('running in Colab:',IN_COLAB)\n",
    "path='..'\n",
    "if IN_COLAB:\n",
    "  #in colab, we need to clone the data from the repo\n",
    "  !git clone https://github.com/keuperj/DataScienceSS20.git\n",
    "  path='DataScienceSS20'\n",
    "  import sys\n",
    "  sys.path.append(path+'/Exercises/')"
   ]
  },
  {
   "cell_type": "markdown",
   "metadata": {},
   "source": [
    "Write your own python module (choose a name) with the following properties:\n",
    "\n",
    "1. start new python file for the module\n",
    "2. define a class ***ListKeeper*** with the following properties and API:\n",
    "   1. ***Listkeeper*** strores named lists (hint: use dictionaries) \n",
    "   2. it initializes with a list named *example*: [1,2,3,4,5]\n",
    "   3. ``show()`` returns all list names\n",
    "   4. ``add(name, list)`` adds a new list\n",
    "   5. ``delete(name)`` deletes list\n",
    "   6. ``sort(name)`` returns the sorted list *name*\n",
    "   7. ``append(name, list)`` appends *list* to *name* \n",
    "3. add comments and documentation to your class\n",
    "4. Import your module in this notebook\n",
    "5. write tests to check the functionality of your class "
   ]
  },
  {
   "cell_type": "code",
   "execution_count": 1,
   "metadata": {},
   "outputs": [],
   "source": [
    "import MyModule as myM"
   ]
  },
  {
   "cell_type": "code",
   "execution_count": 2,
   "metadata": {},
   "outputs": [
    {
     "data": {
      "text/plain": [
       "['__class__',\n",
       " '__delattr__',\n",
       " '__dict__',\n",
       " '__dir__',\n",
       " '__doc__',\n",
       " '__eq__',\n",
       " '__format__',\n",
       " '__ge__',\n",
       " '__getattribute__',\n",
       " '__gt__',\n",
       " '__hash__',\n",
       " '__init__',\n",
       " '__init_subclass__',\n",
       " '__le__',\n",
       " '__lt__',\n",
       " '__module__',\n",
       " '__ne__',\n",
       " '__new__',\n",
       " '__reduce__',\n",
       " '__reduce_ex__',\n",
       " '__repr__',\n",
       " '__setattr__',\n",
       " '__sizeof__',\n",
       " '__str__',\n",
       " '__subclasshook__',\n",
       " '__weakref__',\n",
       " 'add',\n",
       " 'append',\n",
       " 'delete',\n",
       " 'show',\n",
       " 'sort']"
      ]
     },
     "execution_count": 2,
     "metadata": {},
     "output_type": "execute_result"
    }
   ],
   "source": [
    "dir(myM.ListKeeper)"
   ]
  },
  {
   "cell_type": "markdown",
   "metadata": {},
   "source": [
    "## Testing"
   ]
  },
  {
   "cell_type": "code",
   "execution_count": 3,
   "metadata": {},
   "outputs": [
    {
     "name": "stdout",
     "output_type": "stream",
     "text": [
      "{'example': [1, 2, 3, 4, 5]}\n"
     ]
    }
   ],
   "source": [
    "# initialisation list\n",
    "\n",
    "# shows the complete dictionary d {'name': list,...}\n",
    "print(myM.d) "
   ]
  },
  {
   "cell_type": "markdown",
   "metadata": {},
   "source": [
    "### show()"
   ]
  },
  {
   "cell_type": "code",
   "execution_count": 4,
   "metadata": {},
   "outputs": [
    {
     "name": "stdout",
     "output_type": "stream",
     "text": [
      "dict_keys(['example'])\n"
     ]
    }
   ],
   "source": [
    "# show all list names\n",
    "myM.ListKeeper.show()"
   ]
  },
  {
   "cell_type": "markdown",
   "metadata": {},
   "source": [
    "### add(name, list)"
   ]
  },
  {
   "cell_type": "code",
   "execution_count": 5,
   "metadata": {},
   "outputs": [
    {
     "name": "stdout",
     "output_type": "stream",
     "text": [
      "{'example': [1, 2, 3, 4, 5], 'Robin': [26, 7, 5, 4], 'Tim': [42, 4, 2, 74]}\n"
     ]
    }
   ],
   "source": [
    "# adding a list\n",
    "myM.ListKeeper.add(\"Robin\",[26,7,5,4])\n",
    "myM.ListKeeper.add(\"Tim\",[42,4,2,74])\n",
    "print(myM.d)"
   ]
  },
  {
   "cell_type": "markdown",
   "metadata": {},
   "source": [
    "### delete(name)"
   ]
  },
  {
   "cell_type": "code",
   "execution_count": 6,
   "metadata": {},
   "outputs": [
    {
     "name": "stdout",
     "output_type": "stream",
     "text": [
      "{'example': [1, 2, 3, 4, 5], 'Tim': [42, 4, 2, 74]}\n"
     ]
    }
   ],
   "source": [
    "# delete list with 'name'\n",
    "myM.ListKeeper.delete(\"Robin\")\n",
    "print(myM.d)"
   ]
  },
  {
   "cell_type": "markdown",
   "metadata": {},
   "source": [
    "### sort(name)"
   ]
  },
  {
   "cell_type": "code",
   "execution_count": 7,
   "metadata": {},
   "outputs": [
    {
     "name": "stdout",
     "output_type": "stream",
     "text": [
      "Tim: [2, 4, 42, 74]\n",
      "{'example': [1, 2, 3, 4, 5], 'Tim': [2, 4, 42, 74]}\n"
     ]
    }
   ],
   "source": [
    "# sort the list of 'name'\n",
    "myM.ListKeeper.sort(\"Tim\")\n",
    "print(myM.d)"
   ]
  },
  {
   "cell_type": "markdown",
   "metadata": {},
   "source": [
    "### append(name, list)"
   ]
  },
  {
   "cell_type": "code",
   "execution_count": 8,
   "metadata": {},
   "outputs": [
    {
     "name": "stdout",
     "output_type": "stream",
     "text": [
      "{'example': [1, 2, 3, 4, 5], 'Tim': [2, 4, 42, 74, 7, 8, 9]}\n"
     ]
    }
   ],
   "source": [
    "# adds list to a list with 'name'\n",
    "myM.ListKeeper.append(\"Tim\", [7,8,9])\n",
    "print(myM.d)"
   ]
  },
  {
   "cell_type": "code",
   "execution_count": 9,
   "metadata": {},
   "outputs": [
    {
     "name": "stdout",
     "output_type": "stream",
     "text": [
      "Tim: [2, 4, 7, 8, 9, 42, 74]\n",
      "{'example': [1, 2, 3, 4, 5], 'Tim': [2, 4, 7, 8, 9, 42, 74]}\n"
     ]
    }
   ],
   "source": [
    "# further tests\n",
    "\n",
    "myM.ListKeeper.sort(\"Tim\")\n",
    "print(myM.d)"
   ]
  },
  {
   "cell_type": "code",
   "execution_count": 10,
   "metadata": {},
   "outputs": [
    {
     "name": "stdout",
     "output_type": "stream",
     "text": [
      "dict_keys(['example', 'Tim', 'Martin'])\n",
      "Martin: [4, 5, 98, 120]\n",
      "{'example': [1, 2, 3, 4, 5], 'Tim': [2, 4, 7, 8, 9, 42, 74], 'Martin': [4, 5, 98, 120]}\n"
     ]
    }
   ],
   "source": [
    "myM.ListKeeper.add(\"Martin\",[5,98,120,4])\n",
    "myM.ListKeeper.show()\n",
    "myM.ListKeeper.sort(\"Martin\")\n",
    "print(myM.d)"
   ]
  },
  {
   "cell_type": "code",
   "execution_count": null,
   "metadata": {},
   "outputs": [],
   "source": []
  }
 ],
 "metadata": {
  "kernelspec": {
   "display_name": "Python 3",
   "language": "python",
   "name": "python3"
  },
  "language_info": {
   "codemirror_mode": {
    "name": "ipython",
    "version": 3
   },
   "file_extension": ".py",
   "mimetype": "text/x-python",
   "name": "python",
   "nbconvert_exporter": "python",
   "pygments_lexer": "ipython3",
   "version": "3.8.5"
  }
 },
 "nbformat": 4,
 "nbformat_minor": 4
}
